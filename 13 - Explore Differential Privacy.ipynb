{
  "cells": [
    {
      "cell_type": "markdown",
      "metadata": {},
      "source": [
        "# 差分プライバシーを説明する\r\n",
        "\r\n",
        "機械学習プロジェクトでは、通常、データの洞察を得て、どの変数が予測モデルの構築に役立つ可能性が最も高いかを判断するために、データ分析の反復プロセスが含まれます。データの分析には、通常、変数の統計的分布とそれらの間の関係についての洞察を提供する集計関数と統計関数が含まれます。大量のデータでは、集計によって抽象化のレベルが提供されます。しかし、データ量が少ない場合や分析を繰り返す場合には、集計した結果でも個々の観測値の詳細が明らかになることがあります。\r\n",
        "\r\n",
        "*差分プライバシー*は、データに「ノイズ」を加えることによって、個々のデータ ポイントのプライバシーを保護するように設計された手法です。目標は、データの全体的な統計的構成の一貫性を維持しながら、個々の値にプライバシーを提供するために十分なノイズを確実に追加し、集計が元の生データで使用した場合と統計的に類似した結果を生成することです。\r\n",
        "\r\n",
        "## SmartNoise SDK をインストールする\r\n",
        "\r\n",
        "[*SmartNoise*](https://smartnoise.org/) は OpenDP のツールキットです。Microsoft、ハーバード大学などの研究者が共同で進めているこのプロジェクトは、データ分析や機械学習プロジェクトで差分プライバシーを利用するための基礎を提供することを目的としています。\r\n",
        "\r\n",
        "> **注**: SmartNoise は現時点では開発の初期段階にあります。\r\n",
        "\r\n",
        "まず、SmartNoise Python SDK パッケージをインストールします。この演習では、Azure CLI の互換性に関するエラーは無視してください。"
      ]
    },
    {
      "cell_type": "code",
      "execution_count": null,
      "metadata": {
        "scrolled": true
      },
      "outputs": [],
      "source": [
        "!pip install opendp-smartnoise==0.1.4.2"
      ]
    },
    {
      "cell_type": "markdown",
      "metadata": {},
      "source": [
        "## データを読み込む\r\n",
        "\r\n",
        "次に、生データを見てみましょう。この例では、糖尿病の検査を受けた患者の 1 万件の記録があります。"
      ]
    },
    {
      "cell_type": "code",
      "execution_count": null,
      "metadata": {},
      "outputs": [],
      "source": [
        "import pandas as pd\n",
        "\n",
        "data_path = 'data/diabetes.csv'\n",
        "diabetes = pd.read_csv(data_path)\n",
        "diabetes.describe()"
      ]
    },
    {
      "cell_type": "markdown",
      "metadata": {},
      "source": [
        "上記のコードからの出力は、糖尿病データセットにおける変数の主要な概要の統計情報を示します。\r\n",
        "\r\n",
        "## 分析を実行する\r\n",
        "\r\n",
        "SmartNoiseを使用すると、ソース データにノイズを追加する分析を作成できます。ノイズがどのように追加されるかという基礎となる数学は非常に複雑ですが、SmartNoiseはその詳細のほとんどを処理してくれます。ただし、知っておくと便利な概念がいくつかあります。\r\n",
        "\r\n",
        "- **上限と下限**: *クランプ*は、変数の値の上限と下限を設定するために使用されます。これは、SmartNoise によって生成されるノイズが元のデータの予想される分布と一致することを保証するために必要です。\r\n",
        "- **サンプル サイズ**: 一部の集計で一貫性のある差分プライベート データを生成するには、SmartNoise は生成されるデータ・サンプルのサイズを知る必要があります。\r\n",
        "- **イプシロン**: 簡単に説明すると、*イプシロン*は負ではない値で、データに追加されるノイズの量を逆算します。イプシロンが低いほどプライバシー レベルの高いデータセットとなり、イプシロンが高いほど元のデータに近いデータセットとなります。一般に、0 から 1 の間のイプシロン値を使用する必要があります。イプシロンは、*デルタ*と呼ばれる別の値と相関しており、この値は分析によって生成されたレポートが完全に非公開ではない可能性を示します。\r\n",
        "\r\n",
        "これらの概念を念頭に置いて、次のコードを調べて実行します。これにより、分析が作成され、差分プライベート データから平均 **Age** 値がレポートされます。元の生データの実際の平均値も比較のために表示されます。"
   ]
  },
  {
   "cell_type": "code",
   "execution_count": null,
   "metadata": {},
   "outputs": [],
   "source": [
    "import opendp.smartnoise.core as sn\n",
    "\n",
    "cols = list(diabetes.columns)\n",
    "age_range = [0.0, 120.0]\n",
    "samples = len(diabetes)\n",
    "\n",
    "with sn.Analysis() as analysis:\n",
    "    # load data\n",
    "    data = sn.Dataset(path=data_path, column_names=cols)\n",
    "    \n",
    "    # Convert Age to float\n",
    "    age_dt = sn.to_float(data['Age'])\n",
    "    \n",
    "    # get mean of age\n",
    "    age_mean = sn.dp_mean(data = age_dt,\n",
    "                          privacy_usage = {'epsilon': .50},\n",
    "                          data_lower = age_range[0],\n",
    "                          data_upper = age_range[1],\n",
    "                          data_rows = samples\n",
    "                         )\n",
    "    \n",
    "analysis.release()\n",
    "\n",
    "# print differentially private estimate of mean age\n",
    "print(\"Private mean age:\",age_mean.value)\n",
    "\n",
    "# print actual mean age\n",
    "print(\"Actual mean age:\",diabetes.Age.mean())"
   ]
  },
  {
   "cell_type": "markdown",
   "metadata": {},
   "source": [
        "## ヒストグラムを使用してデータ分布を調べる\r\n",
        "\r\n",
        "データを分析する際は、ヒストグラムを使って変数の分布を調べるのが一般的です。\r\n",
        "\r\n",
        "たとえば、糖尿病データセットにおける年齢の真の分布を見てみましょう。"
   ]
  },
  {
   "cell_type": "code",
   "execution_count": null,
   "metadata": {},
   "outputs": [],
   "source": [
    "import matplotlib.pyplot as plt\n",
    "import numpy as np\n",
    "%matplotlib inline\n",
    "\n",
    "ages = list(range(0, 130, 10))\n",
    "age = diabetes.Age\n",
    "\n",
    "# Plot a histogram with 10-year bins\n",
    "n_age, bins, patches = plt.hist(age, bins=ages, color='blue', alpha=0.7, rwidth=0.85)\n",
    "plt.grid(axis='y', alpha=0.75)\n",
    "plt.xlabel('Age')\n",
    "plt.ylabel('Frequency')\n",
    "plt.title('True Age Distribution')\n",
    "plt.show()\n",
    "print(n_age.astype(int))"
   ]
  },
  {
   "cell_type": "markdown",
   "metadata": {},
   "source": [
        "次に、年齢の差分プライベート ヒストグラムを比較してみましょう。"
   ]
  },
  {
   "cell_type": "code",
   "execution_count": null,
   "metadata": {},
   "outputs": [],
   "source": [
    "import matplotlib.pyplot as plt\n",
    "\n",
    "with sn.Analysis() as analysis:\n",
    "    data = sn.Dataset(path = data_path, column_names = cols)\n",
    "\n",
    "    age_histogram = sn.dp_histogram(\n",
    "            sn.to_int(data['Age'], lower=0, upper=120),\n",
    "            edges = ages,\n",
    "            upper = 10000,\n",
    "            null_value = -1,\n",
    "            privacy_usage = {'epsilon': 0.5}\n",
    "        )\n",
    "    \n",
    "analysis.release()\n",
    "\n",
    "plt.ylim([0,7000])\n",
    "width=4\n",
    "agecat_left = [x + width for x in ages]\n",
    "agecat_right = [x + 2*width for x in ages]\n",
    "plt.bar(list(range(0,120,10)), n_age, width=width, color='blue', alpha=0.7, label='True')\n",
    "plt.bar(agecat_left, age_histogram.value, width=width, color='orange', alpha=0.7, label='Private')\n",
    "plt.legend()\n",
    "plt.title('Histogram of Age')\n",
    "plt.xlabel('Age')\n",
    "plt.ylabel('Frequency')\n",
    "plt.show()\n",
    "\n",
    "print(age_histogram.value)"
   ]
  },
  {
   "cell_type": "markdown",
   "metadata": {},
   "source": [
        "ヒストグラムは、差分プライベート データに基づくレポートが、生データからのレポートと同じ洞察を提供することを保証するために十分に類似しています。\r\n",
        "\r\n",
        "## 共分散を計算する\r\n",
        "\r\n",
        "分析のもう 1 つの一般的な目標は、変数間の関係を確立することです。SmartNoise は、これに役立つ差分プライベート*共分散*関数を提供します。"
   ]
  },
  {
   "cell_type": "code",
   "execution_count": null,
   "metadata": {},
   "outputs": [],
   "source": [
    "with sn.Analysis() as analysis:\n",
    "    sn_data = sn.Dataset(path = data_path, column_names = cols)\n",
    "\n",
    "    age_bp_cov_scalar = sn.dp_covariance(\n",
    "                left = sn.to_float(sn_data['Age']),\n",
    "                right = sn.to_float(sn_data['DiastolicBloodPressure']),\n",
    "                privacy_usage = {'epsilon': 1.0},\n",
    "                left_lower = 0.,\n",
    "                left_upper = 120.,\n",
    "                left_rows = 10000,\n",
    "                right_lower = 0.,\n",
    "                right_upper = 150.,\n",
    "                right_rows = 10000)\n",
    "analysis.release()\n",
    "print('Differentially private covariance: {0}'.format(age_bp_cov_scalar.value[0][0]))\n",
    "print('Actual covariance', diabetes.Age.cov(diabetes.DiastolicBloodPressure))"
   ]
  },
  {
   "cell_type": "markdown",
   "metadata": {},
   "source": [
        "この例では、**Age** と **DisatolicBloodPressure** の間の共分散は正であり、高齢患者の方が血圧が高い傾向があることを示しています。\r\n",
        "\r\n",
        "## SQL クエリを使用する\r\n",
        "\r\n",
        "**分析**機能に加えて、SmartNoise では、データ ソースに対して SQL クエリを使用して、差分プライベート集計結果を取得できます。\r\n",
        "\r\n",
        "最初に、データ スキーマ内のテーブルのメタデータを定義する必要があります。これは、**/metadata** フォルダーの **diabetes.yml** ファイルなどの .yml ファイルで実行できます。メタデータは、データ型、数値フィールドの最小値と最大値など、テーブル内のフィールドを記述します。"
   ]
  },
  {
   "cell_type": "code",
   "execution_count": null,
   "metadata": {},
   "outputs": [],
   "source": [
    "from opendp.smartnoise.metadata import CollectionMetadata\n",
    "\n",
    "meta = CollectionMetadata.from_file('metadata/diabetes.yml')\n",
    "print (meta)"
   ]
  },
  {
   "cell_type": "markdown",
   "metadata": {},
   "source": [
        "メタデータを定義すると、クエリできる*リーダー*を作成できます。次の例では、Pandas データフレームから生データを読み取る **PandasReader** と、**PandasReader** に差分プライバシー層を追加する **PrivateReader** を作成します。"
   ]
  },
  {
   "cell_type": "code",
   "execution_count": null,
   "metadata": {
    "scrolled": false
   },
   "outputs": [],
   "source": [
    "from opendp.smartnoise.sql import PandasReader, PrivateReader\n",
    "\n",
    "reader = PandasReader(diabetes, meta)\n",
    "private_reader = PrivateReader(reader=reader, metadata=meta, epsilon_per_column=0.7)\n",
    "print('Readers ready.')"
   ]
  },
  {
   "cell_type": "markdown",
   "metadata": {},
   "source": [
        "これで、集計された結果セットを返す SQL クエリをプライベート リーダーに送信できるようになりました。"
   ]
  },
  {
   "cell_type": "code",
   "execution_count": null,
   "metadata": {},
   "outputs": [],
   "source": [
    "query = 'SELECT Diabetic, AVG(Age) AS AvgAge FROM diabetes.diabetes GROUP BY Diabetic'\n",
    "\n",
    "result_dp = private_reader.execute(query)\n",
    "print(result_dp)"
   ]
  },
  {
   "cell_type": "markdown",
   "metadata": {},
   "source": [
        "結果を生データからの同じ集計と比較してみましょう。"
   ]
  },
  {
   "cell_type": "code",
   "execution_count": null,
   "metadata": {},
   "outputs": [],
   "source": [
    "result = reader.execute(query)\n",
    "print(result)"
   ]
  },
  {
   "cell_type": "markdown",
   "metadata": {},
   "source": [
        "**epsilon_per_column パラメーター**を使用して、**PrivateReader** の動作をカスタマイズすることが可能です。\r\n",
        "\r\n",
        "イプシロンの値が高い (プライバシーが低い) リーダーと、イプシロンの値が低い (プライバシーが高い) リーダーを試してみましょう。"
   ]
  },
  {
   "cell_type": "code",
   "execution_count": null,
   "metadata": {},
   "outputs": [],
   "source": [
    "low_privacy_reader = PrivateReader(reader, meta, 5.0)  # large epsilon, less privacy\n",
    "result = low_privacy_reader.execute(query)\n",
    "print(result)\n",
    "print()\n",
    "\n",
    "high_privacy_reader = PrivateReader(reader, meta, 0.1)  # smaller epsilon, more privacy\n",
    "result = high_privacy_reader.execute(query)\n",
    "print(result)"
   ]
  },
  {
   "cell_type": "markdown",
   "metadata": {},
   "source": [
        "イプシロンが高い (プライバシーが低い) リーダーの結果はイプシロンが低い (プライバシーが高い) リーダーの結果よりも生データからの真の結果に近いことに注意してください。\r\n",
        "\r\n",
        "## 詳細情報\r\n",
        "\r\n",
        "SmartNoise を使用した差分プライバシーの詳細については、[https://smartnoise.org](https://smartnoise.org/) を参照してください"
   ]
  }
 ],
 "metadata": {
  "kernelspec": {
   "display_name": "Python 3.6 - AzureML",
   "language": "python",
   "name": "python3-azureml"
  },
  "language_info": {
   "codemirror_mode": {
    "name": "ipython",
    "version": 3
   },
   "file_extension": ".py",
   "mimetype": "text/x-python",
   "name": "python",
   "nbconvert_exporter": "python",
   "pygments_lexer": "ipython3",
   "version": "3.6.9"
  }
 },
 "nbformat": 4,
 "nbformat_minor": 4
}