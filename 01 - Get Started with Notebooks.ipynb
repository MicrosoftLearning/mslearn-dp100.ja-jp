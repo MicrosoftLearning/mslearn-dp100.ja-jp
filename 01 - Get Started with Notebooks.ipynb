{
  "cells": [
    {
      "cell_type": "markdown",
      "metadata": {},
      "source": [
        "# Azure Machine Learning のノートブックの使用を開始する\n",
        "\n",
        "Azure Machine Learning は、機械学習ソリューションを作成および管理するためのクラウドベースのサービスです。データ サイエンティストと機械学習エンジニアが既存のデータ処理とモデル開発のスキルとフレームワークを活用し、ワークロードをクラウドに拡大するのに役立つように設計されています。\n",
        "\n",
        "データ サイエンスや機械学習の仕事の多くは、このようなノートブックで成し遂げられています。ノートブックは*セル*で構成され、その一部 (このテキストを含むセルなど) はメモ、グラフィック、および通常*マークダウン*を使用して記述されるその他のコンテンツに使用されます。他のセル (この下のセルなど) には、ノートブック内でインタラクティブに実行できるコードが含まれています。\n",
        "\n",
        "## Azure Machine Learning Python SDK\n",
        "\n",
        "必要な Python パッケージが実行環境にインストールされていれば、ほとんどすべての Python コードをノートブックで実行できます。この場合、Azure Machine Learning コンピューティング インスタンス上の *Conda* 環境でノートブックを実行しています。この環境はデフォルトでコンピューティング インスタンスにインストールされており、データ サイエンティストが通常使用する一般的な Python パッケージが含まれています。また、Azure Machine Learning Python SDK も含まれています。これは、Azure Machine Learning ワークスペースのリソースを使用するコードを記述できる Python パッケージです。\n",
        "\n",
        "次のセルを実行して **azureml-core** パッケージをインポートし、インストールされている SDK のバージョンを確認します。"
      ]
    },
    {
      "cell_type": "code",
      "execution_count": null,
      "metadata": {},
      "outputs": [],
      "source": [
        "import azureml.core\n",
        "\n",
        "print(\"Ready to use Azure ML\", azureml.core.VERSION)"
      ]
    },
    {
      "cell_type": "markdown",
      "metadata": {},
      "source": [
        "## ワークスペースに接続する\n",
        "\n",
        "すべての実験と関連リソースは、Azure Machine Learning ワークスペース内で管理されます。既存のワークスペースに接続するか、Azure Machine Learning SDK を使用して新しいワークスペースを作成できます。\n",
        "\n",
        "ほとんどの場合、ワークスペースの接続情報は JSON 構成ファイルに格納されます。これにより、Azure サブスクリプション ID などの詳細を覚えておく必要なく、簡単に接続できます。JSON 構成ファイルは、Azure portal のワークスペースのブレードから、あるいは Azure Machine Learning Studio のワークスペース詳細ウィンドウからダウンロードできますが、ワークスペース内でコンピューティング インスタンスを使用している場合、構成ファイルはすでにルート フォルダーにダウンロードされています。\r\n",
        "\n",
        "次のコードでは、構成ファイルを使用してワークスペースに接続します。\n",
        "\n",
        "> **注**: ノートブックのセッションで初めてワークスペースに接続する際は、`https://microsoft.com/devicelogin` のリンクをクリックして自動的に生成されたコードを入力して Azure にサインインするよう促されます。正常にサインインした後、開いたブラウザー タブを閉じて、このノートブックに戻ることができます。"
      ]
    },
    {
      "cell_type": "code",
      "execution_count": null,
      "metadata": {},
      "outputs": [],
      "source": [
        "from azureml.core import Workspace\n",
        "\n",
        "ws = Workspace.from_config()\n",
        "print(ws.name, \"loaded\")"
      ]
    },
    {
      "cell_type": "markdown",
      "metadata": {},
      "source": [
        "## ワークスペースで Azure Machine Learning のリソースを表示する\n",
        "\n",
        "ワークスペースへの接続ができたので、リソースを使用して作業することができます。たとえば、次のコードを使用して、ワークスペース内のコンピューティング リソースを列挙することができます。"
      ]
    },
    {
      "cell_type": "code",
      "execution_count": null,
      "metadata": {},
      "outputs": [],
      "source": [
        "print(\"Compute Resources:\")\n",
        "for compute_name in ws.compute_targets:\n",
        "    compute = ws.compute_targets[compute_name]\n",
        "    print(\"\\t\", compute.name, ':', compute.type)"
      ]
    },
    {
      "cell_type": "markdown",
      "metadata": {},
      "source": [
        "このノートブックの探索が終了したら、変更を保存して閉じることができます。"
      ]
    }
  ],
  "metadata": {
    "kernelspec": {
      "display_name": "Python 3.6 - AzureML",
      "language": "python",
      "name": "python3-azureml"
    },
    "language_info": {
      "codemirror_mode": {
        "name": "ipython",
        "version": 3
      },
      "file_extension": ".py",
      "mimetype": "text/x-python",
      "name": "python",
      "nbconvert_exporter": "python",
      "pygments_lexer": "ipython3",
      "version": "3.6.9"
    }
  },
  "nbformat": 4,
  "nbformat_minor": 2
}